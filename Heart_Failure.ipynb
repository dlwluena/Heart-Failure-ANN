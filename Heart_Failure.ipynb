{
 "cells": [
  {
   "cell_type": "markdown",
   "id": "c92e2a6c",
   "metadata": {},
   "source": [
    "# Heart Failure Prediction — ANN (PyTorch) · Jupyter Notebook\n",
    "\n",
    "This notebook builds and trains an **Artificial Neural Network (ANN / MLP)** model for **Heart Failure Prediction** using clinical data.  \n",
    "If the dataset is not available, it automatically generates a **synthetic dataset** with a schema similar to the *UCI Heart Failure Clinical Records* dataset.\n",
    "\n",
    "---\n",
    "\n",
    "### Project Structure\n",
    "project/\n",
    "├── Heart_Failure_ANN.ipynb # main notebook\n",
    "└── data/\n",
    "└── heart_failure.csv # optional, real dataset (UCI format)\n",
    "\n",
    "\n",
    "> 💡 If `heart_failure.csv` is missing, the notebook automatically creates synthetic data for demonstration purposes.\n",
    "\n",
    "---\n",
    "\n",
    "### Notebook Highlights\n",
    "- Data loading & preprocessing  \n",
    "- ANN (MLP) model creation with **PyTorch**  \n",
    "- Training, validation, and testing pipeline  \n",
    "- Performance metrics: **Accuracy, Precision, Recall, F1, ROC-AUC**  \n",
    "- Visualizations: **Loss & Accuracy curves, ROC curve, Confusion Matrix**  \n",
    "- Model saving options: `.pt`, `.pkl`, or **PDF report** generation  \n",
    "\n",
    "---\n",
    "\n",
    "### ⚙️ Dependencies\n",
    "```bash\n",
    "pip install torch scikit-learn pandas matplotlib numpy reportlab\n"
   ]
  },
  {
   "cell_type": "markdown",
   "id": "3643f81a",
   "metadata": {},
   "source": [
    "| Step                                | Function                             | Result                   |\n",
    "| ----------------------------------- | ------------------------------------ | ------------------------ |\n",
    "| `torch.cuda.is_available()`         | Checks if a **GPU** is available     | `True` / `False`         |\n",
    "| `device = \"cuda\" if ... else \"cpu\"` | Selects which device to use          | `\"cuda (model runs on your NVIDIA graphics card for faster training)\"` or `\"cpu (model runs on your main processor)\"`      |\n",
    "| `model.to(device)`                  | Moves the model to the chosen device | Runs on GPU if available |"
   ]
  },
  {
   "cell_type": "code",
   "execution_count": 7,
   "id": "74f82da7",
   "metadata": {},
   "outputs": [
    {
     "data": {
      "text/plain": [
       "'cpu'"
      ]
     },
     "execution_count": 7,
     "metadata": {},
     "output_type": "execute_result"
    }
   ],
   "source": [
    "\n",
    "import os\n",
    "from pathlib import Path\n",
    "from dataclasses import dataclass\n",
    "from typing import List, Tuple\n",
    "\n",
    "import numpy as np\n",
    "import pandas as pd\n",
    "import matplotlib.pyplot as plt\n",
    "\n",
    "import torch\n",
    "import torch.nn as nn\n",
    "from torch.utils.data import DataLoader, TensorDataset\n",
    "\n",
    "from sklearn.model_selection import train_test_split\n",
    "from sklearn.preprocessing import StandardScaler\n",
    "from sklearn.metrics import (\n",
    "    accuracy_score, roc_auc_score, precision_recall_fscore_support,\n",
    "    confusion_matrix, RocCurveDisplay\n",
    ")\n",
    "\n",
    "# Tekil grafik kuralına uyacağız: Her grafik ayrı figür.\n",
    "# Renk belirtilmeyecek (varsayılan stiller).\n",
    "\n",
    "def set_seed(seed: int = 42):\n",
    "    import random\n",
    "    random.seed(seed)\n",
    "    np.random.seed(seed)\n",
    "    torch.manual_seed(seed)\n",
    "    torch.cuda.manual_seed_all(seed)\n",
    "    torch.backends.cudnn.deterministic = True\n",
    "    torch.backends.cudnn.benchmark = False\n",
    "\n",
    "device = \"cuda\" if torch.cuda.is_available() else \"cpu\"\n",
    "set_seed(42)\n",
    "device\n"
   ]
  },
  {
   "cell_type": "code",
   "execution_count": 8,
   "id": "6020d9f4",
   "metadata": {},
   "outputs": [
    {
     "data": {
      "text/plain": [
       "CFG(csv_path='data/heart_failure.csv', target='DEATH_EVENT', test_size=0.2, valid_size=0.2, batch_size=64, epochs=60, lr=0.001, hidden=[128, 64], dropout=0.2, weight_decay=0.0001, seed=42)"
      ]
     },
     "execution_count": 8,
     "metadata": {},
     "output_type": "execute_result"
    }
   ],
   "source": [
    "from dataclasses import dataclass\n",
    "from typing import List\n",
    "\n",
    "@dataclass\n",
    "class CFG:\n",
    "    csv_path: str = \"data/heart_failure.csv\"   # path to the dataset file\n",
    "    target: str = \"DEATH_EVENT\"                # name of the target (label) column\n",
    "    test_size: float = 0.2                     # portion of data reserved for testing (20%)\n",
    "    valid_size: float = 0.2                    # portion reserved for validation (20%)\n",
    "    batch_size: int = 64                       # number of samples processed per training step\n",
    "    epochs: int = 60                           # number of total training iterations (epochs)\n",
    "    lr: float = 1e-3                           # learning rate (controls how fast the model learns)\n",
    "    hidden: List[int] = None                   # hidden layer sizes (e.g. [128, 64])\n",
    "    dropout: float = 0.2                       # dropout rate (reduces overfitting)\n",
    "    weight_decay: float = 1e-4                 # L2 regularization term (prevents overfitting)\n",
    "    seed: int = 42                             # random seed for reproducibility\n",
    "\n",
    "    def __post_init__(self):\n",
    "        # set default hidden layer sizes if not provided\n",
    "        if self.hidden is None:\n",
    "            self.hidden = [128, 64]\n",
    "\n",
    "# create configuration object\n",
    "cfg = CFG()\n",
    "cfg\n"
   ]
  },
  {
   "cell_type": "markdown",
   "id": "9f1ea6c4",
   "metadata": {},
   "source": [
    "## Data Loading\n",
    "- If `data/heart_failure.csv` exists, it will be loaded directly.  \n",
    "- If not, the notebook automatically generates **synthetic data** similar to the UCI Heart Failure Clinical Records dataset.\n",
    "\n",
    "**Expected column set** (UCI-compatible):\n",
    "['age', 'anaemia', 'creatinine_phosphokinase', 'diabetes', 'ejection_fraction',\n",
    "'high_blood_pressure', 'platelets', 'serum_creatinine', 'serum_sodium',\n",
    "'sex', 'smoking', 'time', 'DEATH_EVENT']\n",
    "\n",
    "> If the dataset is missing, the notebook will still work — synthetic data is generated with similar statistical properties.\n"
   ]
  },
  {
   "cell_type": "code",
   "execution_count": 13,
   "id": "06f385ed",
   "metadata": {},
   "outputs": [],
   "source": [
    "def load_or_make_data(cfg: CFG):\n",
    "    csv_file = Path(cfg.csv_path)\n",
    "    if csv_file.exists():\n",
    "        df = pd.read_csv(csv_file)\n",
    "        if cfg.target not in df.columns:\n",
    "            raise ValueError(f\"Hedef kolon '{cfg.target}' bulunamadı. Kolonlar: {list(df.columns)}\")\n",
    "        df = df.dropna()\n",
    "        y = df[cfg.target].astype(int)\n",
    "        X = df.drop(columns=[cfg.target])\n",
    "        num_cols = X.select_dtypes(include=[np.number]).columns.tolist()\n",
    "        X = X[num_cols].astype(np.float32)\n",
    "        return X, y, num_cols, True\n",
    "    else:\n",
    "        # ---- SYNTHETIC DATA (similar to UCI format) ----\n",
    "        from sklearn.datasets import make_classification\n",
    "        \n",
    "        cols = [\n",
    "            'age','anaemia','creatinine_phosphokinase','diabetes','ejection_fraction',\n",
    "            'high_blood_pressure','platelets','serum_creatinine','serum_sodium',\n",
    "            'sex','smoking','time','extra_feature'\n",
    "        ]\n",
    "        \n",
    "        X_np, y_np = make_classification(\n",
    "            n_samples=1200,\n",
    "            n_features=len(cols),\n",
    "            n_informative=6,\n",
    "            n_redundant=4,\n",
    "            n_repeated=0,\n",
    "            n_classes=2,\n",
    "            weights=[0.7, 0.3],\n",
    "            class_sep=1.2,\n",
    "            flip_y=0.02,\n",
    "            random_state=cfg.seed,\n",
    "        )\n",
    "\n",
    "        X = pd.DataFrame(X_np.astype(np.float32), columns=cols)\n",
    "        y = pd.Series(y_np.astype(int), name=cfg.target)\n",
    "        return X, y, cols, False\n"
   ]
  },
  {
   "cell_type": "markdown",
   "id": "e5a33791",
   "metadata": {},
   "source": [
    "| Step                 | Purpose                                |\n",
    "| -------------------- | -------------------------------------- |\n",
    "| `train_test_split()` | Split data into train/val/test sets    |\n",
    "| `StandardScaler()`   | Normalize numeric features             |\n",
    "| `TensorDataset()`    | Convert NumPy → PyTorch tensors        |\n",
    "| `DataLoader()`       | Feed data to the model in mini-batches |\n",
    "| `len(tr_dl)`         | Shows number of batches in each loader |\n",
    "\n",
    "So, this part is the **data preparation pipeline before model training** — it splits the data, scales it, converts it into tensors, and divides it into batches.\n"
   ]
  },
  {
   "cell_type": "code",
   "execution_count": 15,
   "id": "96ed7eb3",
   "metadata": {},
   "outputs": [
    {
     "name": "stdout",
     "output_type": "stream",
     "text": [
      "Dataset loaded: synthetic | samples: 1200\n"
     ]
    }
   ],
   "source": [
    "def load_or_make_data(cfg: CFG):\n",
    "    csv_file = Path(cfg.csv_path)\n",
    "    if csv_file.exists():\n",
    "        df = pd.read_csv(csv_file)\n",
    "        if cfg.target not in df.columns:\n",
    "            raise ValueError(f\"Target column '{cfg.target}' not found in {list(df.columns)}\")\n",
    "        df = df.dropna()\n",
    "        y = df[cfg.target].astype(int)\n",
    "        X = df.drop(columns=[cfg.target])\n",
    "        num_cols = X.select_dtypes(include=[np.number]).columns.tolist()\n",
    "        X = X[num_cols].astype(np.float32)\n",
    "        return X, y, num_cols, True\n",
    "    else:\n",
    "        from sklearn.datasets import make_classification\n",
    "        cols = [\n",
    "            'age','anaemia','creatinine_phosphokinase','diabetes','ejection_fraction',\n",
    "            'high_blood_pressure','platelets','serum_creatinine','serum_sodium',\n",
    "            'sex','smoking','time','extra_feature'\n",
    "        ]\n",
    "        X_np, y_np = make_classification(\n",
    "            n_samples=1200,\n",
    "            n_features=len(cols),\n",
    "            n_informative=6,\n",
    "            n_redundant=4,\n",
    "            n_classes=2,\n",
    "            weights=[0.7, 0.3],\n",
    "            class_sep=1.2,\n",
    "            flip_y=0.02,\n",
    "            random_state=cfg.seed,\n",
    "        )\n",
    "        X = pd.DataFrame(X_np.astype(np.float32), columns=cols)\n",
    "        y = pd.Series(y_np.astype(int), name=cfg.target)\n",
    "        return X, y, cols, False\n",
    "\n",
    "# ✅ Çalıştır:\n",
    "X, y, cols, is_real = load_or_make_data(cfg)\n",
    "print(\"Dataset loaded:\", \"real\" if is_real else \"synthetic\", \"| samples:\", len(X))\n"
   ]
  },
  {
   "cell_type": "code",
   "execution_count": 16,
   "id": "9437e47f",
   "metadata": {},
   "outputs": [
    {
     "data": {
      "text/plain": [
       "(12, 3, 4)"
      ]
     },
     "execution_count": 16,
     "metadata": {},
     "output_type": "execute_result"
    }
   ],
   "source": [
    "\n",
    "set_seed(cfg.seed)\n",
    "X_tr, X_te, y_tr, y_te = train_test_split(X, y, test_size=cfg.test_size, stratify=y, random_state=cfg.seed)\n",
    "X_tr, X_va, y_tr, y_va = train_test_split(X_tr, y_tr, test_size=cfg.valid_size, stratify=y_tr, random_state=cfg.seed)\n",
    "\n",
    "scaler = StandardScaler()\n",
    "X_tr_s = scaler.fit_transform(X_tr)\n",
    "X_va_s = scaler.transform(X_va)\n",
    "X_te_s = scaler.transform(X_te)\n",
    "\n",
    "tr_ds = TensorDataset(torch.tensor(X_tr_s, dtype=torch.float32), torch.tensor(y_tr.values, dtype=torch.long))\n",
    "va_ds = TensorDataset(torch.tensor(X_va_s, dtype=torch.float32), torch.tensor(y_va.values, dtype=torch.long))\n",
    "te_ds = TensorDataset(torch.tensor(X_te_s, dtype=torch.float32), torch.tensor(y_te.values, dtype=torch.long))\n",
    "\n",
    "tr_dl = DataLoader(tr_ds, batch_size=cfg.batch_size, shuffle=True)\n",
    "va_dl = DataLoader(va_ds, batch_size=cfg.batch_size, shuffle=False)\n",
    "te_dl = DataLoader(te_ds, batch_size=cfg.batch_size, shuffle=False)\n",
    "\n",
    "len(tr_dl), len(va_dl), len(te_dl)\n"
   ]
  },
  {
   "cell_type": "markdown",
   "id": "9e24f9ae",
   "metadata": {},
   "source": [
    "**MLP:** Defines your neural network architecture\n",
    "\n",
    "nn.Linear(last, h) → fully connected layer\n",
    "nn.ReLU() → activation function introducing non-linearity\n",
    "nn.BatchNorm1d(h) → normalizes activations for stability\n",
    "nn.Dropout(dropout) → randomly deactivates neurons to reduce overfitting"
   ]
  },
  {
   "cell_type": "code",
   "execution_count": 17,
   "id": "1d0413df",
   "metadata": {},
   "outputs": [
    {
     "data": {
      "text/plain": [
       "MLP(\n",
       "  (net): Sequential(\n",
       "    (0): Linear(in_features=13, out_features=128, bias=True)\n",
       "    (1): ReLU()\n",
       "    (2): BatchNorm1d(128, eps=1e-05, momentum=0.1, affine=True, track_running_stats=True)\n",
       "    (3): Dropout(p=0.2, inplace=False)\n",
       "    (4): Linear(in_features=128, out_features=64, bias=True)\n",
       "    (5): ReLU()\n",
       "    (6): BatchNorm1d(64, eps=1e-05, momentum=0.1, affine=True, track_running_stats=True)\n",
       "    (7): Dropout(p=0.2, inplace=False)\n",
       "    (8): Linear(in_features=64, out_features=1, bias=True)\n",
       "  )\n",
       ")"
      ]
     },
     "execution_count": 17,
     "metadata": {},
     "output_type": "execute_result"
    }
   ],
   "source": [
    "\n",
    "class MLP(nn.Module):\n",
    "    def __init__(self, in_dim: int, hidden: List[int], dropout: float = 0.2):\n",
    "        super().__init__()\n",
    "        layers: List[nn.Module] = []\n",
    "        last = in_dim\n",
    "        for h in hidden:\n",
    "            layers += [nn.Linear(last, h), nn.ReLU(), nn.BatchNorm1d(h), nn.Dropout(dropout)]\n",
    "            last = h\n",
    "        layers += [nn.Linear(last, 1)]\n",
    "        self.net = nn.Sequential(*layers)\n",
    "\n",
    "    def forward(self, x):\n",
    "        return self.net(x).squeeze(1)\n",
    "\n",
    "model = MLP(in_dim=X_tr.shape[1], hidden=cfg.hidden, dropout=cfg.dropout).to(device)\n",
    "model\n"
   ]
  },
  {
   "cell_type": "markdown",
   "id": "249d1c87",
   "metadata": {},
   "source": [
    "model → the best trained model\n",
    "history → a dictionary of all recorded metrics during training (for plotting later)\n",
    "\n",
    "**train_valid()** trains the model on the training set, evaluates it on validation data after each epoch, saves the best version, and returns both the trained model and its performance history."
   ]
  },
  {
   "cell_type": "code",
   "execution_count": 18,
   "id": "b55d8496",
   "metadata": {},
   "outputs": [
    {
     "name": "stderr",
     "output_type": "stream",
     "text": [
      "/Library/Frameworks/Python.framework/Versions/3.13/lib/python3.13/site-packages/torch/optim/lr_scheduler.py:62: UserWarning: The verbose parameter is deprecated. Please use get_last_lr() to access the learning rate.\n",
      "  warnings.warn(\n"
     ]
    },
    {
     "data": {
      "text/plain": [
       "{'tr_loss': [0.5884477098782858,\n",
       "  0.4490220795075099,\n",
       "  0.3949262996514638,\n",
       "  0.35641175508499146,\n",
       "  0.3182389661669731,\n",
       "  0.2858016900718212,\n",
       "  0.24809419612089792,\n",
       "  0.23654748871922493,\n",
       "  0.23163458270331225,\n",
       "  0.19796237473686537,\n",
       "  0.1970106673737367,\n",
       "  0.1855100200821956,\n",
       "  0.18120916622380415,\n",
       "  0.1432529054582119,\n",
       "  0.17143856113155684,\n",
       "  0.14517032292981943,\n",
       "  0.13948210018376508,\n",
       "  0.13209585410853228,\n",
       "  0.15094201266765594,\n",
       "  0.14280732721090317,\n",
       "  0.12715571311612925,\n",
       "  0.1244905845572551,\n",
       "  0.12060514899591605,\n",
       "  0.14091744553297758,\n",
       "  0.11099922222395738,\n",
       "  0.11779926779369514,\n",
       "  0.1025200029835105,\n",
       "  0.10860863390068214,\n",
       "  0.11552949311832587,\n",
       "  0.10303052204350631,\n",
       "  0.11125225573778152,\n",
       "  0.10595610365271568,\n",
       "  0.12577782881756625,\n",
       "  0.1034430240591367,\n",
       "  0.10811725320915382,\n",
       "  0.10510713700205088,\n",
       "  0.08932331080238025,\n",
       "  0.08831904456019402,\n",
       "  0.08068014215677977,\n",
       "  0.08616244016836087,\n",
       "  0.08466226141899824,\n",
       "  0.0887493547052145],\n",
       " 'va_loss': [0.5682074626286825,\n",
       "  0.4349064926306407,\n",
       "  0.34624335169792175,\n",
       "  0.30219531059265137,\n",
       "  0.26263584693272907,\n",
       "  0.23898149530092874,\n",
       "  0.218989297747612,\n",
       "  0.19950643678506216,\n",
       "  0.18559846778710684,\n",
       "  0.17776489754517874,\n",
       "  0.17226808021465936,\n",
       "  0.16725483536720276,\n",
       "  0.15818394472201666,\n",
       "  0.1514444723725319,\n",
       "  0.14753369490305582,\n",
       "  0.15012607971827188,\n",
       "  0.1447873910268148,\n",
       "  0.14418827990690866,\n",
       "  0.1440588484207789,\n",
       "  0.14450753480196,\n",
       "  0.138815571864446,\n",
       "  0.1390180786450704,\n",
       "  0.1422896757721901,\n",
       "  0.1437130942940712,\n",
       "  0.13643312454223633,\n",
       "  0.1401007001598676,\n",
       "  0.1334893082578977,\n",
       "  0.13455710435907045,\n",
       "  0.14887414996822676,\n",
       "  0.14173635467886925,\n",
       "  0.14020217334230742,\n",
       "  0.13583000500996908,\n",
       "  0.13996187100807825,\n",
       "  0.13978016624848047,\n",
       "  0.1363464519381523,\n",
       "  0.1441247450808684,\n",
       "  0.14189778392513594,\n",
       "  0.14319093401233354,\n",
       "  0.14799576252698898,\n",
       "  0.14730165153741837,\n",
       "  0.14622162654995918,\n",
       "  0.1472938172519207],\n",
       " 'tr_acc': [0.7044270833333334,\n",
       "  0.8411458333333334,\n",
       "  0.8619791666666666,\n",
       "  0.87890625,\n",
       "  0.8841145833333334,\n",
       "  0.9114583333333334,\n",
       "  0.9192708333333334,\n",
       "  0.91796875,\n",
       "  0.9244791666666666,\n",
       "  0.9361979166666666,\n",
       "  0.9427083333333334,\n",
       "  0.9427083333333334,\n",
       "  0.9361979166666666,\n",
       "  0.94921875,\n",
       "  0.9427083333333334,\n",
       "  0.953125,\n",
       "  0.95703125,\n",
       "  0.9583333333333334,\n",
       "  0.9479166666666666,\n",
       "  0.94921875,\n",
       "  0.953125,\n",
       "  0.9557291666666666,\n",
       "  0.95703125,\n",
       "  0.95703125,\n",
       "  0.9661458333333334,\n",
       "  0.953125,\n",
       "  0.9609375,\n",
       "  0.9635416666666666,\n",
       "  0.9596354166666666,\n",
       "  0.9622395833333334,\n",
       "  0.953125,\n",
       "  0.9596354166666666,\n",
       "  0.9596354166666666,\n",
       "  0.9596354166666666,\n",
       "  0.9609375,\n",
       "  0.9596354166666666,\n",
       "  0.9674479166666666,\n",
       "  0.9674479166666666,\n",
       "  0.9752604166666666,\n",
       "  0.96875,\n",
       "  0.9739583333333334,\n",
       "  0.9700520833333334],\n",
       " 'va_acc': [0.8489583333333334,\n",
       "  0.859375,\n",
       "  0.8697916666666666,\n",
       "  0.8645833333333334,\n",
       "  0.8958333333333334,\n",
       "  0.9166666666666666,\n",
       "  0.9322916666666666,\n",
       "  0.9270833333333334,\n",
       "  0.9427083333333334,\n",
       "  0.9427083333333334,\n",
       "  0.9427083333333334,\n",
       "  0.953125,\n",
       "  0.9583333333333334,\n",
       "  0.9583333333333334,\n",
       "  0.9479166666666666,\n",
       "  0.953125,\n",
       "  0.953125,\n",
       "  0.9479166666666666,\n",
       "  0.9479166666666666,\n",
       "  0.9479166666666666,\n",
       "  0.9635416666666666,\n",
       "  0.9635416666666666,\n",
       "  0.9583333333333334,\n",
       "  0.9583333333333334,\n",
       "  0.9635416666666666,\n",
       "  0.9583333333333334,\n",
       "  0.9635416666666666,\n",
       "  0.9583333333333334,\n",
       "  0.9479166666666666,\n",
       "  0.953125,\n",
       "  0.9583333333333334,\n",
       "  0.9583333333333334,\n",
       "  0.9583333333333334,\n",
       "  0.9635416666666666,\n",
       "  0.9635416666666666,\n",
       "  0.953125,\n",
       "  0.9635416666666666,\n",
       "  0.953125,\n",
       "  0.953125,\n",
       "  0.953125,\n",
       "  0.953125,\n",
       "  0.953125]}"
      ]
     },
     "execution_count": 18,
     "metadata": {},
     "output_type": "execute_result"
    }
   ],
   "source": [
    "\n",
    "def train_valid(model, tr_dl, va_dl, cfg: CFG):\n",
    "    criterion = nn.BCEWithLogitsLoss()\n",
    "    optimizer = torch.optim.Adam(model.parameters(), lr=cfg.lr, weight_decay=cfg.weight_decay)\n",
    "    scheduler = torch.optim.lr_scheduler.ReduceLROnPlateau(optimizer, mode='min', factor=0.5, patience=5, verbose=False)\n",
    "\n",
    "    hist = {\"tr_loss\": [], \"va_loss\": [], \"tr_acc\": [], \"va_acc\": []}\n",
    "    best_state = None\n",
    "    best_val = float('inf')\n",
    "    patience, pat = 15, 0\n",
    "\n",
    "    for epoch in range(1, cfg.epochs+1):\n",
    "        # train\n",
    "        model.train()\n",
    "        tr_loss = 0.0\n",
    "        y_true, y_pred = [], []\n",
    "        for xb, yb in tr_dl:\n",
    "            xb = xb.to(device)\n",
    "            yb = yb.to(device).float()\n",
    "            optimizer.zero_grad()\n",
    "            logits = model(xb)\n",
    "            loss = criterion(logits, yb)\n",
    "            loss.backward()\n",
    "            optimizer.step()\n",
    "            tr_loss += loss.item() * xb.size(0)\n",
    "            probs = torch.sigmoid(logits).detach().cpu().numpy()\n",
    "            y_pred.extend((probs >= 0.5).astype(int))\n",
    "            y_true.extend(yb.detach().cpu().numpy().astype(int))\n",
    "        tr_loss /= len(tr_dl.dataset)\n",
    "        tr_acc = accuracy_score(y_true, y_pred)\n",
    "\n",
    "        # valid\n",
    "        model.eval()\n",
    "        va_loss = 0.0\n",
    "        y_true, y_prob = [], []\n",
    "        with torch.no_grad():\n",
    "            for xb, yb in va_dl:\n",
    "                xb = xb.to(device)\n",
    "                yb = yb.to(device).float()\n",
    "                logits = model(xb)\n",
    "                loss = criterion(logits, yb)\n",
    "                va_loss += loss.item() * xb.size(0)\n",
    "                probs = torch.sigmoid(logits).detach().cpu().numpy()\n",
    "                y_prob.extend(probs)\n",
    "                y_true.extend(yb.detach().cpu().numpy().astype(int))\n",
    "        va_loss /= len(va_dl.dataset)\n",
    "        va_acc = accuracy_score(y_true, (np.array(y_prob)>=0.5).astype(int))\n",
    "        try:\n",
    "            va_auc = roc_auc_score(y_true, y_prob)\n",
    "        except Exception:\n",
    "            va_auc = float('nan')\n",
    "\n",
    "        hist[\"tr_loss\"].append(tr_loss)\n",
    "        hist[\"va_loss\"].append(va_loss)\n",
    "        hist[\"tr_acc\"].append(tr_acc)\n",
    "        hist[\"va_acc\"].append(va_acc)\n",
    "        scheduler.step(va_loss)\n",
    "\n",
    "        if va_loss + 1e-6 < best_val:\n",
    "            best_val = va_loss\n",
    "            best_state = model.state_dict()\n",
    "            pat = 0\n",
    "        else:\n",
    "            pat += 1\n",
    "            if pat >= patience:\n",
    "                break\n",
    "    if best_state is not None:\n",
    "        model.load_state_dict(best_state)\n",
    "    return model, hist\n",
    "\n",
    "model, history = train_valid(model, tr_dl, va_dl, cfg)\n",
    "history\n"
   ]
  },
  {
   "cell_type": "code",
   "execution_count": 19,
   "id": "4215dee5",
   "metadata": {},
   "outputs": [
    {
     "data": {
      "image/png": "[encoded data removed]",
      "text/plain": [
       "<Figure size 640x480 with 1 Axes>"
      ]
     },
     "metadata": {},
     "output_type": "display_data"
    },
    {
     "data": {
      "image/png": "[encoded data removed]",
      "text/plain": [
       "<Figure size 640x480 with 1 Axes>"
      ]
     },
     "metadata": {},
     "output_type": "display_data"
    }
   ],
   "source": [
    "\n",
    "# Loss plot\n",
    "plt.figure()\n",
    "plt.title('Loss')\n",
    "plt.plot(history[\"tr_loss\"], label='train')\n",
    "plt.plot(history[\"va_loss\"], label='valid')\n",
    "plt.xlabel('Epoch')\n",
    "plt.ylabel('Loss')\n",
    "plt.legend()\n",
    "plt.show()\n",
    "\n",
    "# Accuracy plot\n",
    "plt.figure()\n",
    "plt.title('Accuracy')\n",
    "plt.plot(history[\"tr_acc\"], label='train')\n",
    "plt.plot(history[\"va_acc\"], label='valid')\n",
    "plt.xlabel('Epoch')\n",
    "plt.ylabel('Accuracy')\n",
    "plt.legend()\n",
    "plt.show()\n"
   ]
  },
  {
   "cell_type": "code",
   "execution_count": 20,
   "id": "0795e38f",
   "metadata": {},
   "outputs": [
    {
     "name": "stdout",
     "output_type": "stream",
     "text": [
      "Test -> acc=0.967 | auc=0.981 | precision=0.986 | recall=0.907 | f1=0.944\n"
     ]
    },
    {
     "data": {
      "text/plain": [
       "array([[164,   1],\n",
       "       [  7,  68]])"
      ]
     },
     "execution_count": 20,
     "metadata": {},
     "output_type": "execute_result"
    }
   ],
   "source": [
    "\n",
    "# valuates the trained model on test data — computing accuracy, \n",
    "# AUC, precision, recall, F1 score, and the confusion matrix (cm) \n",
    "# — to measure how well the ANN generalizes to unseen samples.\n",
    "\n",
    "model.eval()\n",
    "y_true, y_prob = [], []\n",
    "with torch.no_grad():\n",
    "    for xb, yb in te_dl:\n",
    "        xb = xb.to(device)\n",
    "        logits = model(xb)\n",
    "        probs = torch.sigmoid(logits).cpu().numpy()\n",
    "        y_prob.extend(probs)\n",
    "        y_true.extend(yb.numpy().astype(int))\n",
    "\n",
    "y_prob = np.array(y_prob)\n",
    "y_pred = (y_prob >= 0.5).astype(int)\n",
    "acc = accuracy_score(y_true, y_pred)\n",
    "try:\n",
    "    auc = roc_auc_score(y_true, y_prob)\n",
    "except Exception:\n",
    "    auc = float('nan')\n",
    "pr, rc, f1, _ = precision_recall_fscore_support(y_true, y_pred, average='binary', zero_division=0)\n",
    "cm = confusion_matrix(y_true, y_pred)\n",
    "\n",
    "print(f\"Test -> acc={acc:.3f} | auc={auc:.3f} | precision={pr:.3f} | recall={rc:.3f} | f1={f1:.3f}\")\n",
    "cm\n"
   ]
  },
  {
   "cell_type": "code",
   "execution_count": 21,
   "id": "81f89692",
   "metadata": {},
   "outputs": [
    {
     "data": {
      "image/png": "[encoded data removed]",
      "text/plain": [
       "<Figure size 640x480 with 1 Axes>"
      ]
     },
     "metadata": {},
     "output_type": "display_data"
    },
    {
     "data": {
      "image/png": "[encoded data removed]",
      "text/plain": [
       "<Figure size 640x480 with 2 Axes>"
      ]
     },
     "metadata": {},
     "output_type": "display_data"
    }
   ],
   "source": [
    "\n",
    "# ROC Curve: (Receiver Operating Characteristic Curve) shows how well a model distinguishes between classes by plotting \n",
    "# the True Positive Rate (sensitivity) against the False Positive Rate at different probability thresholds.\n",
    "fig1, ax1 = plt.subplots()\n",
    "RocCurveDisplay.from_predictions(y_true, y_prob, ax=ax1)\n",
    "ax1.set_title(\"ROC Curve\")\n",
    "plt.show()\n",
    "\n",
    "# Confusion Matrix heatmap-ish\n",
    "fig2, ax2 = plt.subplots()\n",
    "im = ax2.imshow(cm, interpolation='nearest')\n",
    "ax2.figure.colorbar(im, ax=ax2)\n",
    "ax2.set(xticks=range(2), yticks=range(2), xticklabels=[\"0\",\"1\"], yticklabels=[\"0\",\"1\"], ylabel='Gerçek', xlabel='Tahmin')\n",
    "for i in range(cm.shape[0]):\n",
    "    for j in range(cm.shape[1]):\n",
    "        ax2.text(j, i, cm[i, j], ha=\"center\", va=\"center\")\n",
    "ax2.set_title(\"Confusion Matrix\")\n",
    "plt.show()\n"
   ]
  },
  {
   "cell_type": "markdown",
   "id": "7e5b3f13",
   "metadata": {},
   "source": [
    "##  Single Sample Prediction\n",
    "The following cell takes one sample from `X_te`, scales it, and returns the model’s prediction.\n"
   ]
  },
  {
   "cell_type": "code",
   "execution_count": 22,
   "id": "de950f5a",
   "metadata": {},
   "outputs": [
    {
     "name": "stdout",
     "output_type": "stream",
     "text": [
      "Sample index: 0\n",
      "True label: 0\n",
      "Predicted probability (DEATH_EVENT=1): 0.006\n"
     ]
    }
   ],
   "source": [
    "idx = 0\n",
    "x = X_te.iloc[[idx]].values.astype(np.float32)\n",
    "x_s = (x - scaler.mean_) / scaler.scale_\n",
    "with torch.no_grad():\n",
    "    p = torch.sigmoid(model(torch.tensor(x_s, dtype=torch.float32).to(device))).item()\n",
    "print(\"Sample index:\", idx)\n",
    "print(\"True label:\", int(y_te.iloc[idx]))\n",
    "print(f\"Predicted probability (DEATH_EVENT=1): {p:.3f}\")\n"
   ]
  },
  {
   "cell_type": "markdown",
   "id": "d54d36f3",
   "metadata": {},
   "source": [
    "Purpose, Generate a professional-looking PDF report summarizing the model’s performance — including metrics and plots (Loss, Accuracy, ROC, Confusion Matrix)."
   ]
  },
  {
   "cell_type": "code",
   "execution_count": 23,
   "id": "9d7836b8",
   "metadata": {},
   "outputs": [
    {
     "name": "stdout",
     "output_type": "stream",
     "text": [
      "PDF report saved at: /Users/handanvural/Desktop/heart_failure_project/reports/HeartFailure_Report.pdf\n"
     ]
    }
   ],
   "source": [
    "# Install if not already installed:\n",
    "# pip install reportlab\n",
    "\n",
    "from reportlab.lib.pagesizes import A4\n",
    "from reportlab.platypus import SimpleDocTemplate, Paragraph, Spacer, Image\n",
    "from reportlab.lib.styles import getSampleStyleSheet\n",
    "from pathlib import Path\n",
    "import matplotlib.pyplot as plt\n",
    "from sklearn.metrics import RocCurveDisplay\n",
    "\n",
    "# === Paths / directories ===\n",
    "pdf_dir = Path(\"/Users/handanvural/Desktop/heart_failure_project/reports\")\n",
    "pdf_dir.mkdir(exist_ok=True, parents=True)\n",
    "pdf_path = pdf_dir / \"HeartFailure_Report.pdf\"\n",
    "\n",
    "# !!! IMPORTANT: Convert Path -> str for ReportLab\n",
    "doc = SimpleDocTemplate(str(pdf_path), pagesize=A4)\n",
    "styles = getSampleStyleSheet()\n",
    "elements = []\n",
    "\n",
    "# === Title and metrics ===\n",
    "elements.append(Paragraph(\"<b>Heart Failure Prediction — ANN (PyTorch)</b>\", styles[\"Title\"]))\n",
    "elements.append(Spacer(1, 12))\n",
    "\n",
    "metrics_text = f\"\"\"\n",
    "<b>Test Metrics</b><br/>\n",
    "Accuracy: {acc:.3f}<br/>\n",
    "ROC-AUC: {auc:.3f}<br/>\n",
    "Precision: {pr:.3f}<br/>\n",
    "Recall: {rc:.3f}<br/>\n",
    "F1-Score: {f1:.3f}<br/>\n",
    "\"\"\"\n",
    "elements.append(Paragraph(metrics_text, styles[\"Normal\"]))\n",
    "elements.append(Spacer(1, 12))\n",
    "\n",
    "# === Save plots as images ===\n",
    "loss_img = pdf_dir / \"loss_plot.png\"\n",
    "acc_img  = pdf_dir / \"acc_plot.png\"\n",
    "roc_img  = pdf_dir / \"roc_curve.png\"\n",
    "cm_img   = pdf_dir / \"conf_matrix.png\"\n",
    "\n",
    "# Loss curve\n",
    "plt.figure()\n",
    "plt.plot(history[\"tr_loss\"], label=\"Train Loss\")\n",
    "plt.plot(history[\"va_loss\"], label=\"Validation Loss\")\n",
    "plt.title(\"Loss Curve\")\n",
    "plt.xlabel(\"Epoch\"); plt.ylabel(\"Loss\"); plt.legend()\n",
    "plt.tight_layout()\n",
    "plt.savefig(loss_img); plt.close()\n",
    "\n",
    "# Accuracy curve\n",
    "plt.figure()\n",
    "plt.plot(history[\"tr_acc\"], label=\"Train Accuracy\")\n",
    "plt.plot(history[\"va_acc\"], label=\"Validation Accuracy\")\n",
    "plt.title(\"Accuracy Curve\")\n",
    "plt.xlabel(\"Epoch\"); plt.ylabel(\"Accuracy\"); plt.legend()\n",
    "plt.tight_layout()\n",
    "plt.savefig(acc_img); plt.close()\n",
    "\n",
    "# ROC curve\n",
    "fig, ax = plt.subplots()\n",
    "RocCurveDisplay.from_predictions(y_true, y_prob, ax=ax)\n",
    "ax.set_title(\"ROC Curve\")\n",
    "fig.tight_layout()\n",
    "fig.savefig(roc_img); plt.close(fig)\n",
    "\n",
    "# Confusion Matrix (simple visualization)\n",
    "fig, ax = plt.subplots()\n",
    "im = ax.imshow(cm, interpolation='nearest')\n",
    "ax.figure.colorbar(im, ax=ax)\n",
    "ax.set(xticks=range(2), yticks=range(2),\n",
    "       xticklabels=[\"0\", \"1\"], yticklabels=[\"0\", \"1\"],\n",
    "       ylabel='True Label', xlabel='Predicted Label')\n",
    "for i in range(cm.shape[0]):\n",
    "    for j in range(cm.shape[1]):\n",
    "        ax.text(j, i, cm[i, j], ha=\"center\", va=\"center\")\n",
    "ax.set_title(\"Confusion Matrix\")\n",
    "fig.tight_layout()\n",
    "fig.savefig(cm_img); plt.close(fig)\n",
    "\n",
    "# === Add images to the PDF (Image paths must be str) ===\n",
    "for img in [loss_img, acc_img, roc_img, cm_img]:\n",
    "    elements.append(Image(str(img), width=400, height=300))\n",
    "    elements.append(Spacer(1, 12))\n",
    "\n",
    "# === Build the PDF report ===\n",
    "doc.build(elements)\n",
    "print(\"PDF report saved at:\", pdf_path)\n"
   ]
  },
  {
   "cell_type": "code",
   "execution_count": 24,
   "id": "c3bf78e9",
   "metadata": {},
   "outputs": [
    {
     "name": "stderr",
     "output_type": "stream",
     "text": [
      "/Library/Frameworks/Python.framework/Versions/3.13/lib/python3.13/site-packages/torch/optim/lr_scheduler.py:62: UserWarning: The verbose parameter is deprecated. Please use get_last_lr() to access the learning rate.\n",
      "  warnings.warn(\n"
     ]
    }
   ],
   "source": [
    "model, history = train_valid(model, tr_dl, va_dl, cfg)\n"
   ]
  },
  {
   "cell_type": "code",
   "execution_count": 26,
   "id": "1e84c533",
   "metadata": {},
   "outputs": [
    {
     "name": "stdout",
     "output_type": "stream",
     "text": [
      "GIF saved as training_progress.gif\n"
     ]
    }
   ],
   "source": [
    "from matplotlib import pyplot as plt\n",
    "from matplotlib.animation import FuncAnimation\n",
    "\n",
    "fig, ax = plt.subplots()\n",
    "ax.set_xlim(0, len(history[\"tr_loss\"]))\n",
    "ax.set_ylim(0, max(history[\"tr_loss\"]) * 1.1)\n",
    "ax.set_xlabel(\"Epoch\")\n",
    "ax.set_ylabel(\"Training Loss\")\n",
    "ax.set_title(\"Training Progress (Loss over Epochs)\")\n",
    "\n",
    "line, = ax.plot([], [], lw=2, color=\"tomato\")\n",
    "\n",
    "def update(frame):\n",
    "    line.set_data(range(frame), history[\"tr_loss\"][:frame])\n",
    "    ax.set_title(f\"Training Loss — Epoch {frame}/{len(history['tr_loss'])}\")\n",
    "    return line,\n",
    "\n",
    "ani = FuncAnimation(fig, update, frames=len(history[\"tr_loss\"]), interval=150, repeat=False)\n",
    "ani.save(\"training_progress.gif\", writer=\"pillow\")\n",
    "plt.close(fig)\n",
    "print(\"GIF saved as training_progress.gif\")\n"
   ]
  },
  {
   "cell_type": "markdown",
   "id": "fc19d57e",
   "metadata": {},
   "source": [
    "### Performance Metrics Explained\n",
    "\n",
    "- **Accuracy:** The ratio of correctly predicted samples to the total number of samples.  \n",
    "- **ROC-AUC:** Measures how well the model distinguishes between positive and negative classes.  \n",
    "- **Precision:** The percentage of predicted positives that are actually positive (low false positives).  \n",
    "- **Recall:** The percentage of actual positives that the model successfully detected (low false negatives).  \n",
    "- **F1-Score:** The harmonic mean of precision and recall, balancing both metrics into one value.  \n"
   ]
  },
  {
   "cell_type": "code",
   "execution_count": 27,
   "id": "3e3720d8",
   "metadata": {},
   "outputs": [
    {
     "data": {
      "image/png": "[encoded data removed]",
      "text/plain": [
       "<Figure size 400x150 with 1 Axes>"
      ]
     },
     "metadata": {},
     "output_type": "display_data"
    }
   ],
   "source": [
    "import matplotlib.pyplot as plt\n",
    "\n",
    "fig, ax = plt.subplots(figsize=(4, 1.5))\n",
    "ax.axis('off')\n",
    "table_data = [\n",
    "    [\"Metric\", \"Value\"],\n",
    "    [\"Accuracy\", f\"{acc:.3f}\"],\n",
    "    [\"ROC-AUC\", f\"{auc:.3f}\"],\n",
    "    [\"Precision\", f\"{pr:.3f}\"],\n",
    "    [\"Recall\", f\"{rc:.3f}\"],\n",
    "    [\"F1-Score\", f\"{f1:.3f}\"],\n",
    "]\n",
    "table = ax.table(cellText=table_data, loc='center', cellLoc='center')\n",
    "table.scale(1, 2)\n",
    "plt.title(\"Performance Metrics\", weight=\"bold\")\n",
    "plt.savefig(\"metrics_table.png\", bbox_inches='tight')\n"
   ]
  },
  {
   "cell_type": "code",
   "execution_count": 29,
   "id": "3a82215b",
   "metadata": {},
   "outputs": [
    {
     "data": {
      "text/plain": [
       "<matplotlib.image.AxesImage at 0x12373c910>"
      ]
     },
     "execution_count": 29,
     "metadata": {},
     "output_type": "execute_result"
    },
    {
     "data": {
      "image/png": "[encoded data removed]",
      "text/plain": [
       "<Figure size 640x480 with 1 Axes>"
      ]
     },
     "metadata": {},
     "output_type": "display_data"
    }
   ],
   "source": [
    "plt.imshow(cm, interpolation='nearest', cmap='coolwarm')\n"
   ]
  }
 ],
 "metadata": {
  "kernelspec": {
   "display_name": "Python 3",
   "language": "python",
   "name": "python3"
  },
  "language_info": {
   "codemirror_mode": {
    "name": "ipython",
    "version": 3
   },
   "file_extension": ".py",
   "mimetype": "text/x-python",
   "name": "python",
   "nbconvert_exporter": "python",
   "pygments_lexer": "ipython3",
   "version": "3.13.2"
  }
 },
 "nbformat": 4,
 "nbformat_minor": 5
}
